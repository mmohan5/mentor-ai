{
 "cells": [
  {
   "cell_type": "code",
   "execution_count": 34,
   "metadata": {},
   "outputs": [],
   "source": [
    "prompt = \"\"\"\n",
    "You are Luna, a support agent for NC IDEA. Answer questions based on the provided context. The context is from NC IDEA and the users are people trying to learn about or apply to the SEED grant. Don't mention you're an AI unless you're asked. Be polite, helpful, and friendly.\n",
    "\n",
    "TASK DESCRIPTION:\n",
    "Respond to the query using the given context.\n",
    "- Provide short, easily understood answers.\n",
    "- Use a conversational and friendly style.\n",
    "- Do not reiterate the question.\n",
    "\n",
    "If the question is not covered in the context, answer, \"I'm sorry, I don't have that information.\" unless it is basic information that can be inferred from the context.\n",
    "\n",
    "HARD REQUIREMENTS:\n",
    "- If part of the query is covered in the documents but the other part isn't, answer the available parts of the question and let the user know what part you don't have information about.\n",
    "- Keep the answer within 300 tokens.\n",
    "- Do not instruct users to contact support or other channels.\n",
    "- Avoid implying you can perform actions.\n",
    "- Quote what you are using to answer the question.\n",
    "- Answer the question in the query. Here is the query: \"{question}\"\n",
    "- Base answers strictly on the context. Here is the context: \"\"\n",
    "{context}\n",
    "\"\"\n",
    "\"\"\""
   ]
  },
  {
   "cell_type": "code",
   "execution_count": 35,
   "metadata": {},
   "outputs": [],
   "source": [
    "from langchain_community.chat_models import ChatOllama\n",
    "from langchain.vectorstores import Chroma\n",
    "from langchain.embeddings import HuggingFaceEmbeddings\n",
    "from langgraph.graph import StateGraph, END\n",
    "from typing import TypedDict, Annotated, List\n",
    "from pydantic import BaseModel, Field\n",
    "\n",
    "embeddings = HuggingFaceEmbeddings(model_name=\"intfloat/e5-base-v2\")\n",
    "vectorstore = Chroma(persist_directory=\"./chroma_db\", embedding_function=embeddings)\n",
    "llm = ChatOllama(model=\"llama3.1\", device=\"cuda\", temperature=0)\n",
    "\n",
    "class AgentState(TypedDict):\n",
    "    results: List[str]\n",
    "    response: str\n",
    "\n",
    "class Agent:\n",
    "    def __init__(self, query=\"\", vectorstore=vectorstore, model=llm):\n",
    "        graph = StateGraph(AgentState)\n",
    "        node1 = \"search_results\"\n",
    "        node2 = \"llm_response\"\n",
    "\n",
    "        graph.add_node(node1, self.sim_search)\n",
    "        graph.add_node(node2, self.response)\n",
    "\n",
    "        graph.add_edge(node1, node2)\n",
    "        graph.add_edge(node2, END)\n",
    "        \n",
    "        graph.set_entry_point(node1)\n",
    "        \n",
    "        self.graph = graph.compile()\n",
    "        self.vectorstore = vectorstore\n",
    "        self.query = query\n",
    "        self.model = model\n",
    "\n",
    "    def invoke(self, query):\n",
    "        self.query = query\n",
    "        return self.graph.invoke({'results': [], 'response': \"\"})\n",
    "\n",
    "    def sim_search(self, state: AgentState):\n",
    "        search_results = self.vectorstore.similarity_search(self.query, k=2)\n",
    "        results = [result.page_content for result in search_results]\n",
    "        state['results'] = results\n",
    "        return state\n",
    "\n",
    "    def response(self, state: AgentState):\n",
    "        context = \"\\n\".join(state['results'])\n",
    "        formatted_prompt = prompt.format(question=self.query, context=context)\n",
    "        state['response'] = self.model.invoke(formatted_prompt)\n",
    "        return state\n"
   ]
  },
  {
   "cell_type": "code",
   "execution_count": null,
   "metadata": {},
   "outputs": [],
   "source": [
    "from IPython.display import Image\n",
    "\n",
    "abot = Agent()\n",
    "Image(abot.graph.get_graph().draw_png())"
   ]
  },
  {
   "cell_type": "code",
   "execution_count": 21,
   "metadata": {},
   "outputs": [],
   "source": [
    "llm = ChatOllama(model=\"llama3.2\", device=\"cuda\", temperature=0)\n",
    "abot = Agent(model=llm)\n",
    "result = abot.invoke(\"What is the eligibility criteria for the NC IDEA SEED grant?\")"
   ]
  },
  {
   "cell_type": "code",
   "execution_count": 22,
   "metadata": {},
   "outputs": [],
   "source": [
    "abot2 = Agent()\n",
    "result2 = abot2.invoke(\"What is the eligibility criteria for the NC IDEA SEED grant?\")"
   ]
  },
  {
   "cell_type": "code",
   "execution_count": 23,
   "metadata": {},
   "outputs": [
    {
     "name": "stdout",
     "output_type": "stream",
     "text": [
      "To be eligible for the NC IDEA SEED grant, your company must meet certain criteria. According to the eligibility requirements, businesses that are illegal in NC, even if legal in other states or countries, are not eligible.\n",
      "\n",
      "Additionally, companies in industries with high capital requirements and a long runway to commercialization, such as pharmaceutical companies, are also not eligible.\n",
      "\n",
      "You can check the specific list of ineligible company types on the application. If you're unsure about your company's eligibility, you can review the industry and company type section to see if it matches any of the ineligible categories.\n",
      "\n",
      "It's also important to note that NC IDEA SEED grants are specifically targeted at companies headquartered in and conducting a majority of corporate operations in North Carolina.\n",
      "['THIS IS A TEMPLATE ONLY AND NOT THE NC IDEA APPLICATION.   \\nAPPLICATIONS MUST BE COMPLETED AND SUBMITTED ONLINE VIA ncidea.my.site.com\\n\\nNC IDEA SEED Grant Application \\n\\nFall 2024\\n\\nNOTES:\\n\\nThis document includes ONLY the free-form questions that are part of NC IDEA’s online application and can be used to draft your answers offline, as well as monitor character counts. This template may change slightly until the application opens.\\n\\nEach application also requires information on company founders, funding details, conflicts of interest, revenue, and a few other items.  \\n\\nRemember to give yourself adequate time to enter your answers into the online application found at the NC IDEA Community Portal at https://ncidea.my.site.com/, as you cannot upload this document template.\\n\\nThe character counts below include spaces.\\n\\nYou may only apply to either\\xa0SEED\\xa0or\\xa0MICRO\\xa0(not both) during a grant cycle. Please review the eligibility criteria to decide which grant is the right fit for the current stage of your company.\\n\\nMICRO Eligibility Criteria \\n\\nSEED Eligibility Criteria \\n\\nFor Fall 2024, the SEED application opens on Monday, July 29, 2024, and closes at 5pm on Monday, August 26, 2024. \\n\\nCOMPANY INFORMATION TAB\\n\\nELIGIBILITY: INDUSTRY AND COMPANY TYPE: The following companies are not eligible for NC IDEA SEED. \\n\\nBusinesses that are illegal in NC, even if legal in other states or countries\\n\\nCompanies in industries with high capital requirements and a long runway to commercialization, such as pharmaceutical companies\\n\\nConsulting practices or agencies\\n\\nDistributors\\n\\nEvent venue and management companies\\n\\nFranchises\\n\\nLocal, service-oriented small businesses (i.e. restaurants, retail stores, catering, cleaning companies)\\n\\nNot-for-profits\\n\\nResellers\\n\\nTelevision/film production companies\\n\\nTraditional publishing companies\\n\\nTraditional staffing agencies \\n\\nTraining companies\\n\\nTrucking, hauling, or freight companies\\n\\nOther “lifestyle” companies\\n\\nBy selecting “Yes,” you confirm that your company industry or company type is not listed above and is eligible for NC IDEA SEED.\\n\\nCOMPANY HEADQUARTERS IN NC (Required if all of the company founders do not reside in NC): If all of the company founders do not reside in North Carolina, explain how your company meets the geography eligibility criteria that “NC IDEA (SEED or MICRO) grants are specifically targeted at companies headquartered in and that conduct a majority of corporate operations in the State of North Carolina.  All publicly facing materials, including their website, social media, and other marketing materials and channels should identify the business as a North Carolina company. Selected companies must agree to maintain the majority of corporate operations in the State of North Carolina for at least the 12-month period following completion of the grant.” (max characters: 500)\\n\\nQuestions with picklist or date answer choices.\\n\\nELIGIBILITY: INDUSTRY AND COMPANY TYPE\\n\\nCOMPANY STRUCTURE\\n\\nINCORPORATION DATE (if applicable)']\n"
     ]
    }
   ],
   "source": [
    "print(result['response'].content)\n",
    "print(result['results'])"
   ]
  },
  {
   "cell_type": "code",
   "execution_count": 24,
   "metadata": {},
   "outputs": [
    {
     "name": "stdout",
     "output_type": "stream",
     "text": [
      "According to the NC IDEA SEED Grant Application, the eligibility criteria for the NC IDEA SEED grant can be found on page 2 under \"SEED Eligibility Criteria\". \n",
      "\n",
      "The SEED Eligibility Criteria states that companies are not eligible if they fall into one of the following categories:\n",
      "\n",
      "* Businesses that are illegal in NC\n",
      "* Companies in industries with high capital requirements and a long runway to commercialization, such as pharmaceutical companies\n",
      "* Consulting practices or agencies\n",
      "* Distributors\n",
      "* Event venue and management companies\n",
      "* Franchises\n",
      "* Local, service-oriented small businesses (i.e. restaurants, retail stores, catering, cleaning companies)\n",
      "* Not-for-profits\n",
      "* Resellers\n",
      "* Television/film production companies\n",
      "* Traditional publishing companies\n",
      "* Traditional staffing agencies \n",
      "* Training companies\n",
      "* Trucking, hauling, or freight companies\n",
      "* Other “lifestyle” companies\n",
      "\n",
      "Additionally, the company must have its headquarters in NC if not all founders reside in NC.\n",
      "['THIS IS A TEMPLATE ONLY AND NOT THE NC IDEA APPLICATION.   \\nAPPLICATIONS MUST BE COMPLETED AND SUBMITTED ONLINE VIA ncidea.my.site.com\\n\\nNC IDEA SEED Grant Application \\n\\nFall 2024\\n\\nNOTES:\\n\\nThis document includes ONLY the free-form questions that are part of NC IDEA’s online application and can be used to draft your answers offline, as well as monitor character counts. This template may change slightly until the application opens.\\n\\nEach application also requires information on company founders, funding details, conflicts of interest, revenue, and a few other items.  \\n\\nRemember to give yourself adequate time to enter your answers into the online application found at the NC IDEA Community Portal at https://ncidea.my.site.com/, as you cannot upload this document template.\\n\\nThe character counts below include spaces.\\n\\nYou may only apply to either\\xa0SEED\\xa0or\\xa0MICRO\\xa0(not both) during a grant cycle. Please review the eligibility criteria to decide which grant is the right fit for the current stage of your company.\\n\\nMICRO Eligibility Criteria \\n\\nSEED Eligibility Criteria \\n\\nFor Fall 2024, the SEED application opens on Monday, July 29, 2024, and closes at 5pm on Monday, August 26, 2024. \\n\\nCOMPANY INFORMATION TAB\\n\\nELIGIBILITY: INDUSTRY AND COMPANY TYPE: The following companies are not eligible for NC IDEA SEED. \\n\\nBusinesses that are illegal in NC, even if legal in other states or countries\\n\\nCompanies in industries with high capital requirements and a long runway to commercialization, such as pharmaceutical companies\\n\\nConsulting practices or agencies\\n\\nDistributors\\n\\nEvent venue and management companies\\n\\nFranchises\\n\\nLocal, service-oriented small businesses (i.e. restaurants, retail stores, catering, cleaning companies)\\n\\nNot-for-profits\\n\\nResellers\\n\\nTelevision/film production companies\\n\\nTraditional publishing companies\\n\\nTraditional staffing agencies \\n\\nTraining companies\\n\\nTrucking, hauling, or freight companies\\n\\nOther “lifestyle” companies\\n\\nBy selecting “Yes,” you confirm that your company industry or company type is not listed above and is eligible for NC IDEA SEED.\\n\\nCOMPANY HEADQUARTERS IN NC (Required if all of the company founders do not reside in NC): If all of the company founders do not reside in North Carolina, explain how your company meets the geography eligibility criteria that “NC IDEA (SEED or MICRO) grants are specifically targeted at companies headquartered in and that conduct a majority of corporate operations in the State of North Carolina.  All publicly facing materials, including their website, social media, and other marketing materials and channels should identify the business as a North Carolina company. Selected companies must agree to maintain the majority of corporate operations in the State of North Carolina for at least the 12-month period following completion of the grant.” (max characters: 500)\\n\\nQuestions with picklist or date answer choices.\\n\\nELIGIBILITY: INDUSTRY AND COMPANY TYPE\\n\\nCOMPANY STRUCTURE\\n\\nINCORPORATION DATE (if applicable)']\n"
     ]
    }
   ],
   "source": [
    "print(result2['response'].content)\n",
    "print(result2['results'])"
   ]
  },
  {
   "cell_type": "code",
   "execution_count": null,
   "metadata": {},
   "outputs": [],
   "source": [
    "llm = ChatOllama(model=\"llama3.2\", device=\"cuda\", temperature=0)\n",
    "abot = Agent(model=llm)\n",
    "result = abot.invoke(\"I represent a moving company. Am I allowed to apply?\")"
   ]
  },
  {
   "cell_type": "code",
   "execution_count": null,
   "metadata": {},
   "outputs": [],
   "source": [
    "abot2 = Agent()\n",
    "result2 = abot2.invoke(\"I represent a moving company. Am I allowed to apply?\")"
   ]
  },
  {
   "cell_type": "code",
   "execution_count": 38,
   "metadata": {},
   "outputs": [
    {
     "name": "stdout",
     "output_type": "stream",
     "text": [
      "Hello! I'd be happy to help you with your SEED grant application. You represent a moving company, but according to our eligibility criteria, we only consider companies that meet specific industry and company type requirements.\n",
      "\n",
      "Unfortunately, it appears that the moving industry is not currently eligible for an NC IDEA program or grant. We focus on supporting startups in other industries, such as technology, healthcare, and advanced manufacturing.\n",
      "\n",
      "If you're interested in exploring alternative funding options or resources, I'd be happy to provide more information on our available programs and services.\n",
      "[\"Questions with picklist or date answer choices.\\n\\nELIGIBILITY: INDUSTRY AND COMPANY TYPE\\n\\nCOMPANY STRUCTURE\\n\\nINCORPORATION DATE (if applicable)\\n\\nCOMPANY LOCATION: NORTH CAROLINA COUNTY \\n\\nBUSINESS CATEGORY\\n\\nBUSINESS SUB-CATEGORY\\n\\nTARGET MARKET \\n\\nUNIVERSITY AFFILIATION\\n\\nADVISORS: List any formal and informal business or technical advisors (and their organizations, if applicable) who are actively engaged with the company. (max characters: 800)\\n\\nSUPPORTING COMMUNITIES: Please name any programs or organizations that have been of assistance to you, including with current and past companies, in your entrepreneurial journey. (max characters: 800) \\n\\nPREVIOUS APPLICANT: Has the company applying previously applied to an NC IDEA program(s) and/or grant(s)?\\n\\nIf your answer is “Yes”, you will need to answer the following two questions.\\n\\nPREVIOUS PROGRAM OR GRANT: When and to what program did this company apply? (max characters: 255)\\n\\nCOMPANY PROGRESS: What has measurably changed with the company since the previous application? Be sure to cover key issues/concerns received from feedback you may have received in the previous application process. Include progress on traction and key milestones that are evidence of the business's increased viability. (max characters: 750)\\n\\nTEAM: COMPANY FOUNDERS TAB\\n\\nPlease provide the following information for EACH COMPANY FOUNDER. Note: Applicants must have at least one full-time founder living in NC. It is preferred that all founders live in NC. \\n\\nName\\n\\nTitle\\n\\nEmail\\n\\nPhone\\n\\nLinkedIn profile URL\\n\\nReviewers will view your profile, so please make sure the information on LinkedIn matches what you submit on this form. This includes your current employment and residency.\\n\\nInclude a BRIEF description of how this person’s background relates to your company.\\n\\nFull-time or part-time status at your company\\n\\nNC IDEA defines a full-time founder as one who works 40+ hours a week on their startup and does not spend more than 15 hours a week, either 1) working at another company; 2) working at a different startup run by the founder(s); or 3) on school-related activities (including class time and homework).\\n\\nIf a founder is part-time, you will be asked to briefly describe what milestone(s) would need to be realized for this person to go full-time, if that is their intent.\\n\\nFull-time or part-time status at any other company\\n\\nIf a founder is working at another company, you will be asked to briefly describe what milestone(s) would need to be realized for this person to work solely on their startup and not work at any other company/companies, if that is their intent.\\n\\nResidence: Does this individual reside in North Carolina?\\n\\nPlease provide further detail if this person does not reside in North Carolina (max words: 50)\\n\\nPrimary Contact\\n\\nUniversity Affiliation: does this individual have a current or historical connection (student, faculty, or employee) with a North Carolina college or university?\\n\\nUniversity Name\\n\\nGender\\n\\nEthnicity\\n\\nVeteran status\", \"University Name\\n\\nGender\\n\\nEthnicity\\n\\nVeteran status\\n\\nTEAM: STAFF (NON-FOUNDER) TAB \\n\\n\\nIf your startup has paid or unpaid non-founder staff, please include the following information for each person. \\n\\nName\\n\\nTitle\\n\\nLinkedIn profile URL\\n\\nInclude a BRIEF description of how this person’s background relates to your company.\\n\\nFull-time or part-time status at your company\\n\\nIf a person is part-time, you will be asked to briefly describe what milestone(s) would need to be realized for this person to go full-time, if that is their intent.\\n\\nBUSINESS DETAILS TAB\\n\\nVIDEO URL (OPTIONAL): You are welcome to submit a video that you feel would complement or enhance your application. Submitting a video is optional but encouraged. The video could include an elevator pitch, product demo (highly encouraged for software companies), customer story/validation or other type of pitch. Videos should be submitted via a link to the video on YouTube, Vimeo, etc. \\n\\nWe cannot accept separate URLs. \\n\\nVideos should be no longer than 3 minutes. Videos that are over the 3-minute limit will not be reviewed or considered.\\n\\nNOTE: Only include ONE URL, and DO NOT include additional text in this field. Additional text will break the link and prevent reviewers from viewing your video. \\n\\nVIDEO URL DETAILS (OPTIONAL): If needed, provide additional information regarding your video link, such as a password. (max characters: 200)\\n\\nELEVATOR PITCH: Give us your elevator pitch. What makes your product/service unique? (max characters: 500)\\n\\nPROBLEM & SOLUTION\\n\\nPROBLEM: What specific problem is your company trying to solve for your customers? How severe is this problem for them? (max characters: 1,500) \\n\\nSOLUTION: Briefly describe how your solution is uniquely addressing this problem. Include a use case for clarification, if needed. (max characters: 2,000)\\n\\nDEFENSIBILITY IN THE MARKETPLACE: What is your company’s defensibility in the marketplace? Highlight your company's intellectual property, innovation, technology, or market advantage. Note, if your company has filed, been issued, or licensed patents, please list those details in the PATENT DETAILS section directly below. (max characters: 1,500) \\n\\nPATENT DETAILS: If the company has filed, issued, or licensed patents, please list the associated number(s) and who owns each of the patents. (max characters: 800) \\n\\nRISK: Looking across all aspects of your startup - technology, adoption, marketing, sales - what is your riskiest assumption, what keeps you up at night, and what are you doing to mitigate that risk? (max characters: 1,000)\\n\\nCUSTOMER & MARKET\\n\\nCUSTOMER DISCOVERY: Tell us about your customer discovery. How many potential customers/users have you talked to? From these interviews, what evidence do you have that you are solving a problem? What else have you learned? What do you still need to learn? (max characters: 1,200) \\n\\nCUSTOMER DESCRIPTION: Who is the company's (ideal) customer/user? (max characters: 1,500)\"]\n"
     ]
    }
   ],
   "source": [
    "print(result['response'].content)\n",
    "print(result['results'])"
   ]
  },
  {
   "cell_type": "code",
   "execution_count": 49,
   "metadata": {},
   "outputs": [
    {
     "name": "stdout",
     "output_type": "stream",
     "text": [
      "I'd be happy to help! According to the context, it seems that eligibility for the SEED grant is based on various factors such as industry and company type, incorporation date, location, business category, target market, university affiliation, advisors, supporting communities, previous applicant status, and more.\n",
      "\n",
      "Regarding your question, \"Am I allowed to apply?\" - I see that there's a section called \"PREVIOUS APPLICANT\" which asks if the company has previously applied to an NC IDEA program(s) and/or grant(s). If the answer is yes, then you'll need to provide additional information. However, it doesn't explicitly state whether a moving company can apply or not.\n",
      "\n",
      "But, I do see that there's no specific restriction mentioned for companies in the moving industry. In fact, the eligibility criteria seem to be quite broad and focused on the company's location, business category, target market, and other factors rather than specific industries.\n",
      "\n",
      "So, based on this information, it appears that a moving company could potentially apply for the SEED grant, but I would recommend reviewing the entire eligibility criteria carefully to ensure you meet all the requirements.\n",
      "[\"Questions with picklist or date answer choices.\\n\\nELIGIBILITY: INDUSTRY AND COMPANY TYPE\\n\\nCOMPANY STRUCTURE\\n\\nINCORPORATION DATE (if applicable)\\n\\nCOMPANY LOCATION: NORTH CAROLINA COUNTY \\n\\nBUSINESS CATEGORY\\n\\nBUSINESS SUB-CATEGORY\\n\\nTARGET MARKET \\n\\nUNIVERSITY AFFILIATION\\n\\nADVISORS: List any formal and informal business or technical advisors (and their organizations, if applicable) who are actively engaged with the company. (max characters: 800)\\n\\nSUPPORTING COMMUNITIES: Please name any programs or organizations that have been of assistance to you, including with current and past companies, in your entrepreneurial journey. (max characters: 800) \\n\\nPREVIOUS APPLICANT: Has the company applying previously applied to an NC IDEA program(s) and/or grant(s)?\\n\\nIf your answer is “Yes”, you will need to answer the following two questions.\\n\\nPREVIOUS PROGRAM OR GRANT: When and to what program did this company apply? (max characters: 255)\\n\\nCOMPANY PROGRESS: What has measurably changed with the company since the previous application? Be sure to cover key issues/concerns received from feedback you may have received in the previous application process. Include progress on traction and key milestones that are evidence of the business's increased viability. (max characters: 750)\\n\\nTEAM: COMPANY FOUNDERS TAB\\n\\nPlease provide the following information for EACH COMPANY FOUNDER. Note: Applicants must have at least one full-time founder living in NC. It is preferred that all founders live in NC. \\n\\nName\\n\\nTitle\\n\\nEmail\\n\\nPhone\\n\\nLinkedIn profile URL\\n\\nReviewers will view your profile, so please make sure the information on LinkedIn matches what you submit on this form. This includes your current employment and residency.\\n\\nInclude a BRIEF description of how this person’s background relates to your company.\\n\\nFull-time or part-time status at your company\\n\\nNC IDEA defines a full-time founder as one who works 40+ hours a week on their startup and does not spend more than 15 hours a week, either 1) working at another company; 2) working at a different startup run by the founder(s); or 3) on school-related activities (including class time and homework).\\n\\nIf a founder is part-time, you will be asked to briefly describe what milestone(s) would need to be realized for this person to go full-time, if that is their intent.\\n\\nFull-time or part-time status at any other company\\n\\nIf a founder is working at another company, you will be asked to briefly describe what milestone(s) would need to be realized for this person to work solely on their startup and not work at any other company/companies, if that is their intent.\\n\\nResidence: Does this individual reside in North Carolina?\\n\\nPlease provide further detail if this person does not reside in North Carolina (max words: 50)\\n\\nPrimary Contact\\n\\nUniversity Affiliation: does this individual have a current or historical connection (student, faculty, or employee) with a North Carolina college or university?\\n\\nUniversity Name\\n\\nGender\\n\\nEthnicity\\n\\nVeteran status\", \"University Name\\n\\nGender\\n\\nEthnicity\\n\\nVeteran status\\n\\nTEAM: STAFF (NON-FOUNDER) TAB \\n\\n\\nIf your startup has paid or unpaid non-founder staff, please include the following information for each person. \\n\\nName\\n\\nTitle\\n\\nLinkedIn profile URL\\n\\nInclude a BRIEF description of how this person’s background relates to your company.\\n\\nFull-time or part-time status at your company\\n\\nIf a person is part-time, you will be asked to briefly describe what milestone(s) would need to be realized for this person to go full-time, if that is their intent.\\n\\nBUSINESS DETAILS TAB\\n\\nVIDEO URL (OPTIONAL): You are welcome to submit a video that you feel would complement or enhance your application. Submitting a video is optional but encouraged. The video could include an elevator pitch, product demo (highly encouraged for software companies), customer story/validation or other type of pitch. Videos should be submitted via a link to the video on YouTube, Vimeo, etc. \\n\\nWe cannot accept separate URLs. \\n\\nVideos should be no longer than 3 minutes. Videos that are over the 3-minute limit will not be reviewed or considered.\\n\\nNOTE: Only include ONE URL, and DO NOT include additional text in this field. Additional text will break the link and prevent reviewers from viewing your video. \\n\\nVIDEO URL DETAILS (OPTIONAL): If needed, provide additional information regarding your video link, such as a password. (max characters: 200)\\n\\nELEVATOR PITCH: Give us your elevator pitch. What makes your product/service unique? (max characters: 500)\\n\\nPROBLEM & SOLUTION\\n\\nPROBLEM: What specific problem is your company trying to solve for your customers? How severe is this problem for them? (max characters: 1,500) \\n\\nSOLUTION: Briefly describe how your solution is uniquely addressing this problem. Include a use case for clarification, if needed. (max characters: 2,000)\\n\\nDEFENSIBILITY IN THE MARKETPLACE: What is your company’s defensibility in the marketplace? Highlight your company's intellectual property, innovation, technology, or market advantage. Note, if your company has filed, been issued, or licensed patents, please list those details in the PATENT DETAILS section directly below. (max characters: 1,500) \\n\\nPATENT DETAILS: If the company has filed, issued, or licensed patents, please list the associated number(s) and who owns each of the patents. (max characters: 800) \\n\\nRISK: Looking across all aspects of your startup - technology, adoption, marketing, sales - what is your riskiest assumption, what keeps you up at night, and what are you doing to mitigate that risk? (max characters: 1,000)\\n\\nCUSTOMER & MARKET\\n\\nCUSTOMER DISCOVERY: Tell us about your customer discovery. How many potential customers/users have you talked to? From these interviews, what evidence do you have that you are solving a problem? What else have you learned? What do you still need to learn? (max characters: 1,200) \\n\\nCUSTOMER DESCRIPTION: Who is the company's (ideal) customer/user? (max characters: 1,500)\"]\n"
     ]
    }
   ],
   "source": [
    "print(result2['response'].content)\n",
    "print(result2['results'])"
   ]
  },
  {
   "cell_type": "code",
   "execution_count": 50,
   "metadata": {},
   "outputs": [
    {
     "data": {
      "text/plain": [
       "\"University Name\\n\\nGender\\n\\nEthnicity\\n\\nVeteran status\\n\\nTEAM: STAFF (NON-FOUNDER) TAB \\n\\n\\nIf your startup has paid or unpaid non-founder staff, please include the following information for each person. \\n\\nName\\n\\nTitle\\n\\nLinkedIn profile URL\\n\\nInclude a BRIEF description of how this person’s background relates to your company.\\n\\nFull-time or part-time status at your company\\n\\nIf a person is part-time, you will be asked to briefly describe what milestone(s) would need to be realized for this person to go full-time, if that is their intent.\\n\\nBUSINESS DETAILS TAB\\n\\nVIDEO URL (OPTIONAL): You are welcome to submit a video that you feel would complement or enhance your application. Submitting a video is optional but encouraged. The video could include an elevator pitch, product demo (highly encouraged for software companies), customer story/validation or other type of pitch. Videos should be submitted via a link to the video on YouTube, Vimeo, etc. \\n\\nWe cannot accept separate URLs. \\n\\nVideos should be no longer than 3 minutes. Videos that are over the 3-minute limit will not be reviewed or considered.\\n\\nNOTE: Only include ONE URL, and DO NOT include additional text in this field. Additional text will break the link and prevent reviewers from viewing your video. \\n\\nVIDEO URL DETAILS (OPTIONAL): If needed, provide additional information regarding your video link, such as a password. (max characters: 200)\\n\\nELEVATOR PITCH: Give us your elevator pitch. What makes your product/service unique? (max characters: 500)\\n\\nPROBLEM & SOLUTION\\n\\nPROBLEM: What specific problem is your company trying to solve for your customers? How severe is this problem for them? (max characters: 1,500) \\n\\nSOLUTION: Briefly describe how your solution is uniquely addressing this problem. Include a use case for clarification, if needed. (max characters: 2,000)\\n\\nDEFENSIBILITY IN THE MARKETPLACE: What is your company’s defensibility in the marketplace? Highlight your company's intellectual property, innovation, technology, or market advantage. Note, if your company has filed, been issued, or licensed patents, please list those details in the PATENT DETAILS section directly below. (max characters: 1,500) \\n\\nPATENT DETAILS: If the company has filed, issued, or licensed patents, please list the associated number(s) and who owns each of the patents. (max characters: 800) \\n\\nRISK: Looking across all aspects of your startup - technology, adoption, marketing, sales - what is your riskiest assumption, what keeps you up at night, and what are you doing to mitigate that risk? (max characters: 1,000)\\n\\nCUSTOMER & MARKET\\n\\nCUSTOMER DISCOVERY: Tell us about your customer discovery. How many potential customers/users have you talked to? From these interviews, what evidence do you have that you are solving a problem? What else have you learned? What do you still need to learn? (max characters: 1,200) \\n\\nCUSTOMER DESCRIPTION: Who is the company's (ideal) customer/user? (max characters: 1,500)\""
      ]
     },
     "execution_count": 50,
     "metadata": {},
     "output_type": "execute_result"
    }
   ],
   "source": [
    "result2['results'][1]"
   ]
  },
  {
   "cell_type": "code",
   "execution_count": null,
   "metadata": {},
   "outputs": [],
   "source": []
  },
  {
   "cell_type": "code",
   "execution_count": null,
   "metadata": {},
   "outputs": [],
   "source": []
  }
 ],
 "metadata": {
  "kernelspec": {
   "display_name": "Python 3",
   "language": "python",
   "name": "python3"
  },
  "language_info": {
   "codemirror_mode": {
    "name": "ipython",
    "version": 3
   },
   "file_extension": ".py",
   "mimetype": "text/x-python",
   "name": "python",
   "nbconvert_exporter": "python",
   "pygments_lexer": "ipython3",
   "version": "3.12.2"
  }
 },
 "nbformat": 4,
 "nbformat_minor": 2
}
