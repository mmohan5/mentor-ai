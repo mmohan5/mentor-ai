{
 "cells": [
  {
   "cell_type": "code",
   "execution_count": null,
   "metadata": {},
   "outputs": [
    {
     "name": "stderr",
     "output_type": "stream",
     "text": [
      "2024-11-07 15:27:58.801 WARNING streamlit.runtime.scriptrunner_utils.script_run_context: Thread 'MainThread': missing ScriptRunContext! This warning can be ignored when running in bare mode.\n",
      "2024-11-07 15:27:59.058 \n",
      "  \u001b[33m\u001b[1mWarning:\u001b[0m to view this Streamlit app on a browser, run it with the following\n",
      "  command:\n",
      "\n",
      "    streamlit run c:\\Python312\\Lib\\site-packages\\ipykernel_launcher.py [ARGUMENTS]\n",
      "2024-11-07 15:27:59.061 Thread 'MainThread': missing ScriptRunContext! This warning can be ignored when running in bare mode.\n",
      "2024-11-07 15:27:59.063 Thread 'MainThread': missing ScriptRunContext! This warning can be ignored when running in bare mode.\n",
      "2024-11-07 15:27:59.063 Thread 'MainThread': missing ScriptRunContext! This warning can be ignored when running in bare mode.\n",
      "2024-11-07 15:27:59.064 Thread 'MainThread': missing ScriptRunContext! This warning can be ignored when running in bare mode.\n",
      "2024-11-07 15:27:59.065 Thread 'MainThread': missing ScriptRunContext! This warning can be ignored when running in bare mode.\n",
      "2024-11-07 15:27:59.066 Thread 'MainThread': missing ScriptRunContext! This warning can be ignored when running in bare mode.\n",
      "2024-11-07 15:27:59.068 Thread 'MainThread': missing ScriptRunContext! This warning can be ignored when running in bare mode.\n",
      "2024-11-07 15:27:59.068 Thread 'MainThread': missing ScriptRunContext! This warning can be ignored when running in bare mode.\n",
      "2024-11-07 15:27:59.069 Thread 'MainThread': missing ScriptRunContext! This warning can be ignored when running in bare mode.\n",
      "2024-11-07 15:27:59.069 Thread 'MainThread': missing ScriptRunContext! This warning can be ignored when running in bare mode.\n",
      "2024-11-07 15:27:59.070 Thread 'MainThread': missing ScriptRunContext! This warning can be ignored when running in bare mode.\n"
     ]
    }
   ],
   "source": [
    "import streamlit as st\n",
    "from langchain_community.chat_models import ChatOllama\n",
    "\n",
    "questions = [\n",
    "    \"What does your comapny do?\",\n",
    "    \"What is your company's mission?\",\n",
    "    \"Who are your target customers?\",\n",
    "    \"What is your competitive advantage?\",\n",
    "    \"What is your business model?\",\n",
    "]\n",
    "\n",
    "def main():\n",
    "    st.title(\"Seed Grant Application Assistant\")\n",
    "\n",
    "    # Page for company description input\n",
    "    if st.sidebar.button(\"Enter Company Description\"):\n",
    "        company_description = st.text_area(\"Enter your company description:\")\n",
    "        if st.button(\"Submit\"):\n",
    "            st.session_state.company_description = company_description\n",
    "            st.success(\"Description submitted successfully!\")\n",
    "\n",
    "    # Page for displaying and editing answers\n",
    "    if st.sidebar.button(\"View/Edit Answers\"):\n",
    "        if 'company_description' not in st.session_state:\n",
    "            st.warning(\"Please enter company description first.\")\n",
    "            \n",
    "            if 'answers' not in st.session_state:\n",
    "                st.session_state.answers = generate_answers(st.session_state.company_description, questions)\n",
    "\n",
    "            for i, question in enumerate(questions):\n",
    "                st.session_state.answers[i] = st.text_area(question, st.session_state.answers[i])\n",
    "\n",
    "            if st.button(\"Save Answers\"):\n",
    "                st.success(\"Answers saved successfully!\")\n",
    "\n",
    "def generate_answers(description, questions):\n",
    "    llm = ChatOllama(model=\"llama3.1\", device=\"cuda\", temperature=0)\n",
    "    answers = []\n",
    "\n",
    "    for question in questions:\n",
    "        prompt = f\"\"\"\n",
    "        Company Description: {description}\n",
    "\n",
    "        Question: {question}\n",
    "\n",
    "        Please provide a concise and relevant answer to the question based on the company description:\n",
    "        \"\"\"\n",
    "        \n",
    "        answer = llm.invoke(prompt)  # Replace with your model's generation method\n",
    "        answers.append(answer)\n",
    "\n",
    "    return answers\n",
    "\n",
    "if __name__ == \"__main__\":\n",
    "    main()"
   ]
  },
  {
   "cell_type": "code",
   "execution_count": null,
   "metadata": {},
   "outputs": [],
   "source": []
  },
  {
   "cell_type": "code",
   "execution_count": null,
   "metadata": {},
   "outputs": [],
   "source": []
  }
 ],
 "metadata": {
  "kernelspec": {
   "display_name": "Python 3",
   "language": "python",
   "name": "python3"
  },
  "language_info": {
   "codemirror_mode": {
    "name": "ipython",
    "version": 3
   },
   "file_extension": ".py",
   "mimetype": "text/x-python",
   "name": "python",
   "nbconvert_exporter": "python",
   "pygments_lexer": "ipython3",
   "version": "3.12.2"
  }
 },
 "nbformat": 4,
 "nbformat_minor": 2
}
